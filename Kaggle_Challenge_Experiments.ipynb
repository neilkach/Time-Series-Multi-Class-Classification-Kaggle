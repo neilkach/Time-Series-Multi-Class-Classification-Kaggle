{
 "cells": [
  {
   "cell_type": "markdown",
   "metadata": {},
   "source": [
    "# Kaggle Challenge Spring 2024 - Neil Kachappilly"
   ]
  },
  {
   "cell_type": "markdown",
   "metadata": {},
   "source": [
    "## Loading the Data"
   ]
  },
  {
   "cell_type": "code",
   "execution_count": 336,
   "metadata": {},
   "outputs": [],
   "source": [
    "import pandas as pd\n",
    "\n",
    "train_df = pd.read_csv('Train_set.csv')"
   ]
  },
  {
   "cell_type": "markdown",
   "metadata": {},
   "source": [
    "## Data Exploration"
   ]
  },
  {
   "cell_type": "code",
   "execution_count": 337,
   "metadata": {},
   "outputs": [
    {
     "data": {
      "text/html": [
       "<div>\n",
       "<style scoped>\n",
       "    .dataframe tbody tr th:only-of-type {\n",
       "        vertical-align: middle;\n",
       "    }\n",
       "\n",
       "    .dataframe tbody tr th {\n",
       "        vertical-align: top;\n",
       "    }\n",
       "\n",
       "    .dataframe thead th {\n",
       "        text-align: right;\n",
       "    }\n",
       "</style>\n",
       "<table border=\"1\" class=\"dataframe\">\n",
       "  <thead>\n",
       "    <tr style=\"text-align: right;\">\n",
       "      <th></th>\n",
       "      <th>ID</th>\n",
       "      <th>T0</th>\n",
       "      <th>T1</th>\n",
       "      <th>T2</th>\n",
       "      <th>T3</th>\n",
       "      <th>T4</th>\n",
       "      <th>T5</th>\n",
       "      <th>T6</th>\n",
       "      <th>T7</th>\n",
       "      <th>T8</th>\n",
       "      <th>...</th>\n",
       "      <th>T178</th>\n",
       "      <th>T179</th>\n",
       "      <th>T180</th>\n",
       "      <th>T181</th>\n",
       "      <th>T182</th>\n",
       "      <th>T183</th>\n",
       "      <th>T184</th>\n",
       "      <th>T185</th>\n",
       "      <th>T186</th>\n",
       "      <th>Class</th>\n",
       "    </tr>\n",
       "  </thead>\n",
       "  <tbody>\n",
       "    <tr>\n",
       "      <th>0</th>\n",
       "      <td>0</td>\n",
       "      <td>0.965812</td>\n",
       "      <td>0.792023</td>\n",
       "      <td>0.116809</td>\n",
       "      <td>0.000000</td>\n",
       "      <td>0.162393</td>\n",
       "      <td>0.213675</td>\n",
       "      <td>0.264957</td>\n",
       "      <td>0.247863</td>\n",
       "      <td>0.270655</td>\n",
       "      <td>...</td>\n",
       "      <td>0.0</td>\n",
       "      <td>0.0</td>\n",
       "      <td>0.0</td>\n",
       "      <td>0.0</td>\n",
       "      <td>0.0</td>\n",
       "      <td>0.0</td>\n",
       "      <td>0.0</td>\n",
       "      <td>0.0</td>\n",
       "      <td>0.0</td>\n",
       "      <td>0</td>\n",
       "    </tr>\n",
       "    <tr>\n",
       "      <th>1</th>\n",
       "      <td>1</td>\n",
       "      <td>1.000000</td>\n",
       "      <td>0.597015</td>\n",
       "      <td>0.000000</td>\n",
       "      <td>0.109453</td>\n",
       "      <td>0.094527</td>\n",
       "      <td>0.084577</td>\n",
       "      <td>0.074627</td>\n",
       "      <td>0.094527</td>\n",
       "      <td>0.114428</td>\n",
       "      <td>...</td>\n",
       "      <td>0.0</td>\n",
       "      <td>0.0</td>\n",
       "      <td>0.0</td>\n",
       "      <td>0.0</td>\n",
       "      <td>0.0</td>\n",
       "      <td>0.0</td>\n",
       "      <td>0.0</td>\n",
       "      <td>0.0</td>\n",
       "      <td>0.0</td>\n",
       "      <td>0</td>\n",
       "    </tr>\n",
       "    <tr>\n",
       "      <th>2</th>\n",
       "      <td>2</td>\n",
       "      <td>0.831382</td>\n",
       "      <td>0.714286</td>\n",
       "      <td>0.491803</td>\n",
       "      <td>NaN</td>\n",
       "      <td>NaN</td>\n",
       "      <td>NaN</td>\n",
       "      <td>NaN</td>\n",
       "      <td>NaN</td>\n",
       "      <td>NaN</td>\n",
       "      <td>...</td>\n",
       "      <td>0.0</td>\n",
       "      <td>0.0</td>\n",
       "      <td>0.0</td>\n",
       "      <td>0.0</td>\n",
       "      <td>0.0</td>\n",
       "      <td>0.0</td>\n",
       "      <td>0.0</td>\n",
       "      <td>0.0</td>\n",
       "      <td>0.0</td>\n",
       "      <td>0</td>\n",
       "    </tr>\n",
       "    <tr>\n",
       "      <th>3</th>\n",
       "      <td>3</td>\n",
       "      <td>1.000000</td>\n",
       "      <td>0.837705</td>\n",
       "      <td>0.236066</td>\n",
       "      <td>0.037705</td>\n",
       "      <td>0.252459</td>\n",
       "      <td>0.329508</td>\n",
       "      <td>0.319672</td>\n",
       "      <td>0.306557</td>\n",
       "      <td>0.304918</td>\n",
       "      <td>...</td>\n",
       "      <td>0.0</td>\n",
       "      <td>0.0</td>\n",
       "      <td>0.0</td>\n",
       "      <td>0.0</td>\n",
       "      <td>0.0</td>\n",
       "      <td>0.0</td>\n",
       "      <td>0.0</td>\n",
       "      <td>0.0</td>\n",
       "      <td>0.0</td>\n",
       "      <td>0</td>\n",
       "    </tr>\n",
       "    <tr>\n",
       "      <th>4</th>\n",
       "      <td>4</td>\n",
       "      <td>0.868590</td>\n",
       "      <td>0.448718</td>\n",
       "      <td>0.490385</td>\n",
       "      <td>0.477564</td>\n",
       "      <td>0.461538</td>\n",
       "      <td>0.455128</td>\n",
       "      <td>0.416667</td>\n",
       "      <td>0.304487</td>\n",
       "      <td>0.182692</td>\n",
       "      <td>...</td>\n",
       "      <td>0.0</td>\n",
       "      <td>0.0</td>\n",
       "      <td>0.0</td>\n",
       "      <td>0.0</td>\n",
       "      <td>0.0</td>\n",
       "      <td>0.0</td>\n",
       "      <td>0.0</td>\n",
       "      <td>0.0</td>\n",
       "      <td>0.0</td>\n",
       "      <td>4</td>\n",
       "    </tr>\n",
       "  </tbody>\n",
       "</table>\n",
       "<p>5 rows × 189 columns</p>\n",
       "</div>"
      ],
      "text/plain": [
       "   ID        T0        T1        T2        T3        T4        T5        T6  \\\n",
       "0   0  0.965812  0.792023  0.116809  0.000000  0.162393  0.213675  0.264957   \n",
       "1   1  1.000000  0.597015  0.000000  0.109453  0.094527  0.084577  0.074627   \n",
       "2   2  0.831382  0.714286  0.491803       NaN       NaN       NaN       NaN   \n",
       "3   3  1.000000  0.837705  0.236066  0.037705  0.252459  0.329508  0.319672   \n",
       "4   4  0.868590  0.448718  0.490385  0.477564  0.461538  0.455128  0.416667   \n",
       "\n",
       "         T7        T8  ...  T178  T179  T180  T181  T182  T183  T184  T185  \\\n",
       "0  0.247863  0.270655  ...   0.0   0.0   0.0   0.0   0.0   0.0   0.0   0.0   \n",
       "1  0.094527  0.114428  ...   0.0   0.0   0.0   0.0   0.0   0.0   0.0   0.0   \n",
       "2       NaN       NaN  ...   0.0   0.0   0.0   0.0   0.0   0.0   0.0   0.0   \n",
       "3  0.306557  0.304918  ...   0.0   0.0   0.0   0.0   0.0   0.0   0.0   0.0   \n",
       "4  0.304487  0.182692  ...   0.0   0.0   0.0   0.0   0.0   0.0   0.0   0.0   \n",
       "\n",
       "   T186  Class  \n",
       "0   0.0      0  \n",
       "1   0.0      0  \n",
       "2   0.0      0  \n",
       "3   0.0      0  \n",
       "4   0.0      4  \n",
       "\n",
       "[5 rows x 189 columns]"
      ]
     },
     "execution_count": 337,
     "metadata": {},
     "output_type": "execute_result"
    }
   ],
   "source": [
    "train_df.head()"
   ]
  },
  {
   "cell_type": "code",
   "execution_count": 338,
   "metadata": {},
   "outputs": [
    {
     "data": {
      "text/plain": [
       "[<matplotlib.lines.Line2D at 0x36a87a5c0>]"
      ]
     },
     "execution_count": 338,
     "metadata": {},
     "output_type": "execute_result"
    },
    {
     "data": {
      "image/png": "[encoded data removed]",
      "text/plain": [
       "<Figure size 640x480 with 1 Axes>"
      ]
     },
     "metadata": {},
     "output_type": "display_data"
    }
   ],
   "source": [
    "# plot the first time series from train_df\n",
    "import matplotlib.pyplot as plt\n",
    "\n",
    "plt.plot(train_df.loc[0].iloc[1:])"
   ]
  },
  {
   "cell_type": "code",
   "execution_count": 339,
   "metadata": {},
   "outputs": [
    {
     "name": "stdout",
     "output_type": "stream",
     "text": [
      "Class\n",
      "0    72471\n",
      "4     6431\n",
      "2     5788\n",
      "1     2223\n",
      "3      641\n",
      "Name: count, dtype: int64\n"
     ]
    }
   ],
   "source": [
    "# understand label imbalance in the dataset\n",
    "print(train_df['Class'].value_counts())"
   ]
  },
  {
   "cell_type": "code",
   "execution_count": 340,
   "metadata": {},
   "outputs": [
    {
     "name": "stdout",
     "output_type": "stream",
     "text": [
      "ID          0\n",
      "T0        474\n",
      "T1        919\n",
      "T2       1327\n",
      "T3       1711\n",
      "         ... \n",
      "T183     4898\n",
      "T184     4956\n",
      "T185     4928\n",
      "T186     4909\n",
      "Class       0\n",
      "Length: 189, dtype: int64\n"
     ]
    }
   ],
   "source": [
    "# understand how many rows are affected by missing values\n",
    "print(train_df.isnull().sum())"
   ]
  },
  {
   "cell_type": "markdown",
   "metadata": {},
   "source": [
    "# Data Preprocessing"
   ]
  },
  {
   "cell_type": "code",
   "execution_count": 341,
   "metadata": {},
   "outputs": [
    {
     "name": "stdout",
     "output_type": "stream",
     "text": [
      "Number of rows with label 0 and null values: 72471\n"
     ]
    }
   ],
   "source": [
    "# Possible idea: delete rows with missing values if they're labeled 0? -- not possible because every one has missing values\n",
    "mask = (train_df['Class'] == 0) & train_df.isnull().any(axis=1)\n",
    "\n",
    "num_rows_with_nulls = mask.sum()\n",
    "\n",
    "print(\"Number of rows with label 0 and null values:\", num_rows_with_nulls)"
   ]
  },
  {
   "cell_type": "code",
   "execution_count": 342,
   "metadata": {},
   "outputs": [],
   "source": [
    "# # impute missing values in with the median value of the column by label for best replaced data \n",
    "# def impute_values(df):\n",
    "#     grouped = df.groupby('Class')\n",
    "#     medians = grouped.median()\n",
    "#     filled_df = df.copy() \n",
    "#     for label, group in grouped:\n",
    "#         mask = (df['Class'] == label)  # Mask to select rows corresponding to the current label\n",
    "#         for column in df.columns[1:-1]:\n",
    "#             median_value = medians.loc[label, column]  # Median value for the current label and column\n",
    "#             filled_df.loc[mask, column] = filled_df.loc[mask, column].fillna(median_value)\n",
    "#     return filled_df    \n",
    "\n",
    "# filled_df = impute_values(train_df)\n",
    "filled_df = train_df.fillna(train_df.median())"
   ]
  },
  {
   "cell_type": "code",
   "execution_count": 343,
   "metadata": {},
   "outputs": [],
   "source": [
    "# use this test to evaluate the performance of the model before using the actual test data (can train on entire train set for that)\n",
    "from sklearn.model_selection import train_test_split\n",
    "# split the data into features and labels\n",
    "X = filled_df.iloc[:, 1:-1]\n",
    "y = filled_df['Class']\n",
    "\n",
    "X_train, X_test, y_train, y_test = train_test_split(X, y, test_size=0.2, random_state=42, stratify=y)"
   ]
  },
  {
   "cell_type": "markdown",
   "metadata": {},
   "source": [
    "## Resampling train data so as to avoid data leakage in validation and testing datasets"
   ]
  },
  {
   "cell_type": "code",
   "execution_count": 344,
   "metadata": {},
   "outputs": [
    {
     "name": "stdout",
     "output_type": "stream",
     "text": [
      "Class\n",
      "0    57977\n",
      "4     5145\n",
      "2     4630\n",
      "1     1778\n",
      "3      513\n",
      "Name: count, dtype: int64\n"
     ]
    }
   ],
   "source": [
    "# print counts in train data\n",
    "print(y_train.value_counts())"
   ]
  },
  {
   "cell_type": "code",
   "execution_count": 345,
   "metadata": {},
   "outputs": [],
   "source": [
    "# try oversampling the minority class and undersampling the majority class significantly\n",
    "from imblearn.over_sampling import SMOTE\n",
    "from imblearn.combine import SMOTEENN\n",
    "from imblearn.under_sampling import RandomUnderSampler\n",
    "from imblearn.pipeline import Pipeline\n",
    "\n",
    "oversampling_strategy = {1:4500, 3: 4500}\n",
    "over = SMOTE(sampling_strategy=oversampling_strategy)\n",
    "undersampling_strategy = {0: 5500}\n",
    "under = RandomUnderSampler(sampling_strategy=undersampling_strategy)\n",
    "steps = [('o', over), ('u', under)]\n",
    "pipeline = Pipeline(steps=steps)\n",
    "\n",
    "# apply the pipeline to the data\n",
    "X_train_resampled, y_train_resampled = pipeline.fit_resample(X_train, y_train)"
   ]
  },
  {
   "cell_type": "code",
   "execution_count": 346,
   "metadata": {},
   "outputs": [
    {
     "name": "stdout",
     "output_type": "stream",
     "text": [
      "Class\n",
      "0    5500\n",
      "4    5145\n",
      "2    4630\n",
      "1    4500\n",
      "3    4500\n",
      "Name: count, dtype: int64\n"
     ]
    }
   ],
   "source": [
    "print(pd.Series(y_train_resampled).value_counts()) # check the distribution of the labels after resampling"
   ]
  },
  {
   "cell_type": "code",
   "execution_count": 347,
   "metadata": {},
   "outputs": [],
   "source": [
    "from sklearn.metrics import f1_score\n",
    "def macro_f1(y_pred):\n",
    "    f1 = f1_score(y_test, y_pred, average='macro')\n",
    "    return f1"
   ]
  },
  {
   "cell_type": "markdown",
   "metadata": {},
   "source": [
    "## Trying simple Logistic Regression Model as baseline"
   ]
  },
  {
   "cell_type": "code",
   "execution_count": 348,
   "metadata": {},
   "outputs": [
    {
     "data": {
      "text/html": [
       "<style>#sk-container-id-25 {color: black;}#sk-container-id-25 pre{padding: 0;}#sk-container-id-25 div.sk-toggleable {background-color: white;}#sk-container-id-25 label.sk-toggleable__label {cursor: pointer;display: block;width: 100%;margin-bottom: 0;padding: 0.3em;box-sizing: border-box;text-align: center;}#sk-container-id-25 label.sk-toggleable__label-arrow:before {content: \"▸\";float: left;margin-right: 0.25em;color: #696969;}#sk-container-id-25 label.sk-toggleable__label-arrow:hover:before {color: black;}#sk-container-id-25 div.sk-estimator:hover label.sk-toggleable__label-arrow:before {color: black;}#sk-container-id-25 div.sk-toggleable__content {max-height: 0;max-width: 0;overflow: hidden;text-align: left;background-color: #f0f8ff;}#sk-container-id-25 div.sk-toggleable__content pre {margin: 0.2em;color: black;border-radius: 0.25em;background-color: #f0f8ff;}#sk-container-id-25 input.sk-toggleable__control:checked~div.sk-toggleable__content {max-height: 200px;max-width: 100%;overflow: auto;}#sk-container-id-25 input.sk-toggleable__control:checked~label.sk-toggleable__label-arrow:before {content: \"▾\";}#sk-container-id-25 div.sk-estimator input.sk-toggleable__control:checked~label.sk-toggleable__label {background-color: #d4ebff;}#sk-container-id-25 div.sk-label input.sk-toggleable__control:checked~label.sk-toggleable__label {background-color: #d4ebff;}#sk-container-id-25 input.sk-hidden--visually {border: 0;clip: rect(1px 1px 1px 1px);clip: rect(1px, 1px, 1px, 1px);height: 1px;margin: -1px;overflow: hidden;padding: 0;position: absolute;width: 1px;}#sk-container-id-25 div.sk-estimator {font-family: monospace;background-color: #f0f8ff;border: 1px dotted black;border-radius: 0.25em;box-sizing: border-box;margin-bottom: 0.5em;}#sk-container-id-25 div.sk-estimator:hover {background-color: #d4ebff;}#sk-container-id-25 div.sk-parallel-item::after {content: \"\";width: 100%;border-bottom: 1px solid gray;flex-grow: 1;}#sk-container-id-25 div.sk-label:hover label.sk-toggleable__label {background-color: #d4ebff;}#sk-container-id-25 div.sk-serial::before {content: \"\";position: absolute;border-left: 1px solid gray;box-sizing: border-box;top: 0;bottom: 0;left: 50%;z-index: 0;}#sk-container-id-25 div.sk-serial {display: flex;flex-direction: column;align-items: center;background-color: white;padding-right: 0.2em;padding-left: 0.2em;position: relative;}#sk-container-id-25 div.sk-item {position: relative;z-index: 1;}#sk-container-id-25 div.sk-parallel {display: flex;align-items: stretch;justify-content: center;background-color: white;position: relative;}#sk-container-id-25 div.sk-item::before, #sk-container-id-25 div.sk-parallel-item::before {content: \"\";position: absolute;border-left: 1px solid gray;box-sizing: border-box;top: 0;bottom: 0;left: 50%;z-index: -1;}#sk-container-id-25 div.sk-parallel-item {display: flex;flex-direction: column;z-index: 1;position: relative;background-color: white;}#sk-container-id-25 div.sk-parallel-item:first-child::after {align-self: flex-end;width: 50%;}#sk-container-id-25 div.sk-parallel-item:last-child::after {align-self: flex-start;width: 50%;}#sk-container-id-25 div.sk-parallel-item:only-child::after {width: 0;}#sk-container-id-25 div.sk-dashed-wrapped {border: 1px dashed gray;margin: 0 0.4em 0.5em 0.4em;box-sizing: border-box;padding-bottom: 0.4em;background-color: white;}#sk-container-id-25 div.sk-label label {font-family: monospace;font-weight: bold;display: inline-block;line-height: 1.2em;}#sk-container-id-25 div.sk-label-container {text-align: center;}#sk-container-id-25 div.sk-container {/* jupyter's `normalize.less` sets `[hidden] { display: none; }` but bootstrap.min.css set `[hidden] { display: none !important; }` so we also need the `!important` here to be able to override the default hidden behavior on the sphinx rendered scikit-learn.org. See: https://github.com/scikit-learn/scikit-learn/issues/21755 */display: inline-block !important;position: relative;}#sk-container-id-25 div.sk-text-repr-fallback {display: none;}</style><div id=\"sk-container-id-25\" class=\"sk-top-container\"><div class=\"sk-text-repr-fallback\"><pre>LogisticRegression(max_iter=1000)</pre><b>In a Jupyter environment, please rerun this cell to show the HTML representation or trust the notebook. <br />On GitHub, the HTML representation is unable to render, please try loading this page with nbviewer.org.</b></div><div class=\"sk-container\" hidden><div class=\"sk-item\"><div class=\"sk-estimator sk-toggleable\"><input class=\"sk-toggleable__control sk-hidden--visually\" id=\"sk-estimator-id-25\" type=\"checkbox\" checked><label for=\"sk-estimator-id-25\" class=\"sk-toggleable__label sk-toggleable__label-arrow\">LogisticRegression</label><div class=\"sk-toggleable__content\"><pre>LogisticRegression(max_iter=1000)</pre></div></div></div></div></div>"
      ],
      "text/plain": [
       "LogisticRegression(max_iter=1000)"
      ]
     },
     "execution_count": 348,
     "metadata": {},
     "output_type": "execute_result"
    }
   ],
   "source": [
    "# train log reg model on the same data and evaluate\n",
    "from sklearn.linear_model import LogisticRegression\n",
    "log_reg = LogisticRegression(max_iter=1000)\n",
    "log_reg.fit(X_train_resampled, y_train_resampled)"
   ]
  },
  {
   "cell_type": "code",
   "execution_count": 349,
   "metadata": {},
   "outputs": [
    {
     "name": "stdout",
     "output_type": "stream",
     "text": [
      "Test macro f1 score using Logistic Regression model:  0.48181189809376956\n"
     ]
    }
   ],
   "source": [
    "y_pred = log_reg.predict(X_test)\n",
    "print(\"Test macro f1 score using Logistic Regression model: \", macro_f1(y_pred))"
   ]
  },
  {
   "cell_type": "markdown",
   "metadata": {},
   "source": [
    "## Neural Network Model"
   ]
  },
  {
   "cell_type": "code",
   "execution_count": 350,
   "metadata": {},
   "outputs": [],
   "source": [
    "# split the train set into train and validation set for neural networks\n",
    "X_train_nn, X_val_nn, y_train_nn, y_val_nn = train_test_split(X_train_resampled, y_train_resampled, test_size=0.2, random_state=42, stratify=y_train_resampled)"
   ]
  },
  {
   "cell_type": "code",
   "execution_count": 351,
   "metadata": {},
   "outputs": [],
   "source": [
    "import numpy as np\n",
    "X_train_reshaped = X_train_nn.values.reshape((X_train_nn.shape[0], X_train_nn.shape[1], 1))\n",
    "X_val_reshaped = X_val_nn.values.reshape((X_val_nn.shape[0], X_val_nn.shape[1], 1))\n",
    "X_test_reshaped = X_test.values.reshape((X_test.shape[0], X_test.shape[1], 1))\n",
    "\n",
    "#converting the labels to one-hot encoding so that it matches the shape of neural net output\n",
    "y_train_onehot = np.eye(5)[y_train_nn]\n",
    "y_val_onehot = np.eye(5)[y_val_nn]"
   ]
  },
  {
   "cell_type": "code",
   "execution_count": 352,
   "metadata": {},
   "outputs": [
    {
     "name": "stdout",
     "output_type": "stream",
     "text": [
      "Epoch 1/15\n",
      "152/152 [==============================] - ETA: 0s - loss: 1.3715 - f1_score: 0.3757\n",
      "Epoch 1: val_loss improved from inf to 1.22458, saving model to best_model.h5\n",
      "152/152 [==============================] - 15s 79ms/step - loss: 1.3715 - f1_score: 0.3757 - val_loss: 1.2246 - val_f1_score: 0.4327\n",
      "Epoch 2/15\n",
      "152/152 [==============================] - ETA: 0s - loss: 1.1898 - f1_score: 0.4778\n",
      "Epoch 2: val_loss improved from 1.22458 to 1.12399, saving model to best_model.h5\n",
      "152/152 [==============================] - 8s 53ms/step - loss: 1.1898 - f1_score: 0.4778 - val_loss: 1.1240 - val_f1_score: 0.5377\n",
      "Epoch 3/15\n",
      "152/152 [==============================] - ETA: 0s - loss: 1.1342 - f1_score: 0.5178\n",
      "Epoch 3: val_loss improved from 1.12399 to 1.07659, saving model to best_model.h5\n",
      "152/152 [==============================] - 8s 52ms/step - loss: 1.1342 - f1_score: 0.5178 - val_loss: 1.0766 - val_f1_score: 0.5610\n",
      "Epoch 4/15\n",
      "152/152 [==============================] - ETA: 0s - loss: 1.1069 - f1_score: 0.5354\n",
      "Epoch 4: val_loss did not improve from 1.07659\n",
      "152/152 [==============================] - 8s 52ms/step - loss: 1.1069 - f1_score: 0.5354 - val_loss: 1.0837 - val_f1_score: 0.5499\n",
      "Epoch 5/15\n",
      "152/152 [==============================] - ETA: 0s - loss: 1.0873 - f1_score: 0.5436\n",
      "Epoch 5: val_loss did not improve from 1.07659\n",
      "152/152 [==============================] - 8s 50ms/step - loss: 1.0873 - f1_score: 0.5436 - val_loss: 1.1706 - val_f1_score: 0.4977\n",
      "Epoch 6/15\n",
      "152/152 [==============================] - ETA: 0s - loss: 1.0610 - f1_score: 0.5592\n",
      "Epoch 6: val_loss improved from 1.07659 to 1.03912, saving model to best_model.h5\n",
      "152/152 [==============================] - 8s 49ms/step - loss: 1.0610 - f1_score: 0.5592 - val_loss: 1.0391 - val_f1_score: 0.5772\n",
      "Epoch 7/15\n",
      "152/152 [==============================] - ETA: 0s - loss: 1.0455 - f1_score: 0.5726\n",
      "Epoch 7: val_loss improved from 1.03912 to 1.01780, saving model to best_model.h5\n",
      "152/152 [==============================] - 10s 64ms/step - loss: 1.0455 - f1_score: 0.5726 - val_loss: 1.0178 - val_f1_score: 0.5877\n",
      "Epoch 8/15\n",
      "152/152 [==============================] - ETA: 0s - loss: 1.0262 - f1_score: 0.5879\n",
      "Epoch 8: val_loss did not improve from 1.01780\n",
      "152/152 [==============================] - 8s 50ms/step - loss: 1.0262 - f1_score: 0.5879 - val_loss: 1.0562 - val_f1_score: 0.5805\n",
      "Epoch 9/15\n",
      "151/152 [============================>.] - ETA: 0s - loss: 1.0766 - f1_score: 0.5636\n",
      "Epoch 9: val_loss did not improve from 1.01780\n",
      "152/152 [==============================] - 7s 49ms/step - loss: 1.0781 - f1_score: 0.5629 - val_loss: 1.4310 - val_f1_score: 0.3737\n",
      "Epoch 10/15\n",
      "152/152 [==============================] - ETA: 0s - loss: 1.1090 - f1_score: 0.5316\n",
      "Epoch 10: val_loss did not improve from 1.01780\n",
      "152/152 [==============================] - 8s 50ms/step - loss: 1.1090 - f1_score: 0.5316 - val_loss: 1.0755 - val_f1_score: 0.5609\n",
      "Epoch 11/15\n",
      "152/152 [==============================] - ETA: 0s - loss: 1.0681 - f1_score: 0.5579\n",
      "Epoch 11: val_loss did not improve from 1.01780\n",
      "152/152 [==============================] - 7s 49ms/step - loss: 1.0681 - f1_score: 0.5579 - val_loss: 1.1122 - val_f1_score: 0.5299\n",
      "Epoch 12/15\n",
      "151/152 [============================>.] - ETA: 0s - loss: 1.0750 - f1_score: 0.5542\n",
      "Epoch 12: val_loss improved from 1.01780 to 0.99990, saving model to best_model.h5\n",
      "152/152 [==============================] - 7s 48ms/step - loss: 1.0743 - f1_score: 0.5545 - val_loss: 0.9999 - val_f1_score: 0.5850\n",
      "Epoch 13/15\n",
      "152/152 [==============================] - ETA: 0s - loss: 1.1649 - f1_score: 0.5106\n",
      "Epoch 13: val_loss did not improve from 0.99990\n",
      "152/152 [==============================] - 7s 49ms/step - loss: 1.1649 - f1_score: 0.5106 - val_loss: 1.1908 - val_f1_score: 0.5189\n",
      "Epoch 14/15\n",
      "152/152 [==============================] - ETA: 0s - loss: 1.0822 - f1_score: 0.5561\n",
      "Epoch 14: val_loss did not improve from 0.99990\n",
      "152/152 [==============================] - 7s 49ms/step - loss: 1.0822 - f1_score: 0.5561 - val_loss: 1.0083 - val_f1_score: 0.5927\n",
      "Epoch 15/15\n",
      "151/152 [============================>.] - ETA: 0s - loss: 1.1680 - f1_score: 0.5515\n",
      "Epoch 15: val_loss did not improve from 0.99990\n",
      "152/152 [==============================] - 7s 48ms/step - loss: 1.1719 - f1_score: 0.5505 - val_loss: 1.7542 - val_f1_score: 0.1393\n"
     ]
    },
    {
     "data": {
      "text/plain": [
       "<keras.callbacks.History at 0x2c14b9900>"
      ]
     },
     "execution_count": 352,
     "metadata": {},
     "output_type": "execute_result"
    }
   ],
   "source": [
    "# implement RNN for this time series multicass classification problem\n",
    "import tensorflow as tf\n",
    "from tensorflow.keras.models import Sequential\n",
    "from tensorflow.keras.layers import Dense, LSTM, Dropout, BatchNormalization\n",
    "from tensorflow.keras.callbacks import EarlyStopping, ModelCheckpoint\n",
    "import tensorflow_addons as tfa\n",
    "\n",
    "# LSTM for multiclass classification\n",
    "# LSTM_model = Sequential()\n",
    "# LSTM_model.add(LSTM(64, input_shape=(X_train.shape[1], 1)))\n",
    "# LSTM_model.add(Dropout(0.2))\n",
    "# LSTM_model.add(Dense(32, activation='relu'))\n",
    "# LSTM_model.add(BatchNormalization())\n",
    "# LSTM_model.add(Dense(5, activation='softmax'))\n",
    "\n",
    "LSTM_model = Sequential([\n",
    "    LSTM(64, input_shape=(187, 1), return_sequences=True),\n",
    "    Dropout(0.5),\n",
    "    LSTM(64),\n",
    "    Dropout(0.5),\n",
    "    Dense(32, activation='relu'),\n",
    "    Dense(5, activation='softmax')\n",
    "])\n",
    "\n",
    "\n",
    "LSTM_model.compile(optimizer='adam', loss='categorical_crossentropy', metrics=[tfa.metrics.F1Score(num_classes=5,average='macro')])\n",
    "\n",
    "early_stopping = EarlyStopping(monitor='val_loss', patience=5)\n",
    "\n",
    "# Define callback for model checkpoint\n",
    "checkpoint_path = \"best_model.h5\"\n",
    "checkpoint = ModelCheckpoint(checkpoint_path, monitor='val_loss', save_best_only=True, mode='min', verbose=1)\n",
    "\n",
    "LSTM_model.fit(X_train_reshaped, y_train_onehot, epochs=15, batch_size=128, validation_data=(X_val_reshaped, y_val_onehot), callbacks=[early_stopping, checkpoint])"
   ]
  },
  {
   "cell_type": "code",
   "execution_count": 364,
   "metadata": {},
   "outputs": [
    {
     "name": "stdout",
     "output_type": "stream",
     "text": [
      "548/548 [==============================] - 7s 11ms/step\n",
      "Test macro f1 score using simple LSTM model:  0.28860757628756656\n"
     ]
    }
   ],
   "source": [
    "#get argmax of each softmax output from predict and get predicted class\n",
    "best_model = tf.keras.models.load_model(checkpoint_path)    \n",
    "y_pred = best_model.predict(X_test_reshaped)\n",
    "y_pred = np.argmax(y_pred, axis=1)\n",
    "print(\"Test macro f1 score using simple LSTM model: \", macro_f1(y_pred))"
   ]
  },
  {
   "cell_type": "markdown",
   "metadata": {},
   "source": [
    "## Trying ensemble methods considering imbalanced nature of dataset"
   ]
  },
  {
   "cell_type": "code",
   "execution_count": 354,
   "metadata": {},
   "outputs": [],
   "source": [
    "# trying different sampling method with random forest\n",
    "# oversampling_strategy = {1:4500, 3: 4500}\n",
    "# over = SMOTE(sampling_strategy=oversampling_strategy)\n",
    "undersampling_strategy = {0: 25000}\n",
    "under = RandomUnderSampler(sampling_strategy=undersampling_strategy)\n",
    "steps = [('u', under)]\n",
    "pipeline = Pipeline(steps=steps)\n",
    "\n",
    "# apply the pipeline to the data\n",
    "X_train_resampled, y_train_resampled = pipeline.fit_resample(X_train, y_train)"
   ]
  },
  {
   "cell_type": "code",
   "execution_count": 355,
   "metadata": {},
   "outputs": [
    {
     "name": "stdout",
     "output_type": "stream",
     "text": [
      "Test macro f1 score using Random Forest model:  0.8815189925506786\n"
     ]
    }
   ],
   "source": [
    "# RF without sampling\n",
    "from sklearn.ensemble import RandomForestClassifier\n",
    "\n",
    "rf = RandomForestClassifier(n_estimators=100, random_state=42)\n",
    "rf.fit(X_train_resampled, y_train_resampled)\n",
    "#evaluate\n",
    "y_pred = rf.predict(X_test)\n",
    "print(\"Test macro f1 score using Random Forest model: \", macro_f1(y_pred))"
   ]
  },
  {
   "cell_type": "code",
   "execution_count": 359,
   "metadata": {},
   "outputs": [
    {
     "data": {
      "text/html": [
       "<style>#sk-container-id-27 {color: black;}#sk-container-id-27 pre{padding: 0;}#sk-container-id-27 div.sk-toggleable {background-color: white;}#sk-container-id-27 label.sk-toggleable__label {cursor: pointer;display: block;width: 100%;margin-bottom: 0;padding: 0.3em;box-sizing: border-box;text-align: center;}#sk-container-id-27 label.sk-toggleable__label-arrow:before {content: \"▸\";float: left;margin-right: 0.25em;color: #696969;}#sk-container-id-27 label.sk-toggleable__label-arrow:hover:before {color: black;}#sk-container-id-27 div.sk-estimator:hover label.sk-toggleable__label-arrow:before {color: black;}#sk-container-id-27 div.sk-toggleable__content {max-height: 0;max-width: 0;overflow: hidden;text-align: left;background-color: #f0f8ff;}#sk-container-id-27 div.sk-toggleable__content pre {margin: 0.2em;color: black;border-radius: 0.25em;background-color: #f0f8ff;}#sk-container-id-27 input.sk-toggleable__control:checked~div.sk-toggleable__content {max-height: 200px;max-width: 100%;overflow: auto;}#sk-container-id-27 input.sk-toggleable__control:checked~label.sk-toggleable__label-arrow:before {content: \"▾\";}#sk-container-id-27 div.sk-estimator input.sk-toggleable__control:checked~label.sk-toggleable__label {background-color: #d4ebff;}#sk-container-id-27 div.sk-label input.sk-toggleable__control:checked~label.sk-toggleable__label {background-color: #d4ebff;}#sk-container-id-27 input.sk-hidden--visually {border: 0;clip: rect(1px 1px 1px 1px);clip: rect(1px, 1px, 1px, 1px);height: 1px;margin: -1px;overflow: hidden;padding: 0;position: absolute;width: 1px;}#sk-container-id-27 div.sk-estimator {font-family: monospace;background-color: #f0f8ff;border: 1px dotted black;border-radius: 0.25em;box-sizing: border-box;margin-bottom: 0.5em;}#sk-container-id-27 div.sk-estimator:hover {background-color: #d4ebff;}#sk-container-id-27 div.sk-parallel-item::after {content: \"\";width: 100%;border-bottom: 1px solid gray;flex-grow: 1;}#sk-container-id-27 div.sk-label:hover label.sk-toggleable__label {background-color: #d4ebff;}#sk-container-id-27 div.sk-serial::before {content: \"\";position: absolute;border-left: 1px solid gray;box-sizing: border-box;top: 0;bottom: 0;left: 50%;z-index: 0;}#sk-container-id-27 div.sk-serial {display: flex;flex-direction: column;align-items: center;background-color: white;padding-right: 0.2em;padding-left: 0.2em;position: relative;}#sk-container-id-27 div.sk-item {position: relative;z-index: 1;}#sk-container-id-27 div.sk-parallel {display: flex;align-items: stretch;justify-content: center;background-color: white;position: relative;}#sk-container-id-27 div.sk-item::before, #sk-container-id-27 div.sk-parallel-item::before {content: \"\";position: absolute;border-left: 1px solid gray;box-sizing: border-box;top: 0;bottom: 0;left: 50%;z-index: -1;}#sk-container-id-27 div.sk-parallel-item {display: flex;flex-direction: column;z-index: 1;position: relative;background-color: white;}#sk-container-id-27 div.sk-parallel-item:first-child::after {align-self: flex-end;width: 50%;}#sk-container-id-27 div.sk-parallel-item:last-child::after {align-self: flex-start;width: 50%;}#sk-container-id-27 div.sk-parallel-item:only-child::after {width: 0;}#sk-container-id-27 div.sk-dashed-wrapped {border: 1px dashed gray;margin: 0 0.4em 0.5em 0.4em;box-sizing: border-box;padding-bottom: 0.4em;background-color: white;}#sk-container-id-27 div.sk-label label {font-family: monospace;font-weight: bold;display: inline-block;line-height: 1.2em;}#sk-container-id-27 div.sk-label-container {text-align: center;}#sk-container-id-27 div.sk-container {/* jupyter's `normalize.less` sets `[hidden] { display: none; }` but bootstrap.min.css set `[hidden] { display: none !important; }` so we also need the `!important` here to be able to override the default hidden behavior on the sphinx rendered scikit-learn.org. See: https://github.com/scikit-learn/scikit-learn/issues/21755 */display: inline-block !important;position: relative;}#sk-container-id-27 div.sk-text-repr-fallback {display: none;}</style><div id=\"sk-container-id-27\" class=\"sk-top-container\"><div class=\"sk-text-repr-fallback\"><pre>RandomForestClassifier(random_state=42)</pre><b>In a Jupyter environment, please rerun this cell to show the HTML representation or trust the notebook. <br />On GitHub, the HTML representation is unable to render, please try loading this page with nbviewer.org.</b></div><div class=\"sk-container\" hidden><div class=\"sk-item\"><div class=\"sk-estimator sk-toggleable\"><input class=\"sk-toggleable__control sk-hidden--visually\" id=\"sk-estimator-id-27\" type=\"checkbox\" checked><label for=\"sk-estimator-id-27\" class=\"sk-toggleable__label sk-toggleable__label-arrow\">RandomForestClassifier</label><div class=\"sk-toggleable__content\"><pre>RandomForestClassifier(random_state=42)</pre></div></div></div></div></div>"
      ],
      "text/plain": [
       "RandomForestClassifier(random_state=42)"
      ]
     },
     "execution_count": 359,
     "metadata": {},
     "output_type": "execute_result"
    }
   ],
   "source": [
    "#RF with PCA\n",
    "from sklearn.decomposition import PCA\n",
    "pca = PCA(n_components=1)\n",
    "X_train_pca = pca.fit_transform(X_train)\n",
    "X_test_pca = pca.transform(X_test)\n",
    "\n",
    "rf_pca = RandomForestClassifier(n_estimators=100, random_state=42)\n",
    "rf_pca.fit(X_train_pca, y_train)"
   ]
  },
  {
   "cell_type": "code",
   "execution_count": 360,
   "metadata": {},
   "outputs": [
    {
     "name": "stdout",
     "output_type": "stream",
     "text": [
      "Test macro f1 score using Random Forest model with PCA:  0.240917226297685\n"
     ]
    }
   ],
   "source": [
    "#evaluate\n",
    "y_pred = rf_pca.predict(X_test_pca)\n",
    "print(\"Test macro f1 score using Random Forest model with PCA: \", macro_f1(y_pred))"
   ]
  },
  {
   "cell_type": "code",
   "execution_count": 361,
   "metadata": {},
   "outputs": [
    {
     "data": {
      "text/html": [
       "<style>#sk-container-id-28 {color: black;}#sk-container-id-28 pre{padding: 0;}#sk-container-id-28 div.sk-toggleable {background-color: white;}#sk-container-id-28 label.sk-toggleable__label {cursor: pointer;display: block;width: 100%;margin-bottom: 0;padding: 0.3em;box-sizing: border-box;text-align: center;}#sk-container-id-28 label.sk-toggleable__label-arrow:before {content: \"▸\";float: left;margin-right: 0.25em;color: #696969;}#sk-container-id-28 label.sk-toggleable__label-arrow:hover:before {color: black;}#sk-container-id-28 div.sk-estimator:hover label.sk-toggleable__label-arrow:before {color: black;}#sk-container-id-28 div.sk-toggleable__content {max-height: 0;max-width: 0;overflow: hidden;text-align: left;background-color: #f0f8ff;}#sk-container-id-28 div.sk-toggleable__content pre {margin: 0.2em;color: black;border-radius: 0.25em;background-color: #f0f8ff;}#sk-container-id-28 input.sk-toggleable__control:checked~div.sk-toggleable__content {max-height: 200px;max-width: 100%;overflow: auto;}#sk-container-id-28 input.sk-toggleable__control:checked~label.sk-toggleable__label-arrow:before {content: \"▾\";}#sk-container-id-28 div.sk-estimator input.sk-toggleable__control:checked~label.sk-toggleable__label {background-color: #d4ebff;}#sk-container-id-28 div.sk-label input.sk-toggleable__control:checked~label.sk-toggleable__label {background-color: #d4ebff;}#sk-container-id-28 input.sk-hidden--visually {border: 0;clip: rect(1px 1px 1px 1px);clip: rect(1px, 1px, 1px, 1px);height: 1px;margin: -1px;overflow: hidden;padding: 0;position: absolute;width: 1px;}#sk-container-id-28 div.sk-estimator {font-family: monospace;background-color: #f0f8ff;border: 1px dotted black;border-radius: 0.25em;box-sizing: border-box;margin-bottom: 0.5em;}#sk-container-id-28 div.sk-estimator:hover {background-color: #d4ebff;}#sk-container-id-28 div.sk-parallel-item::after {content: \"\";width: 100%;border-bottom: 1px solid gray;flex-grow: 1;}#sk-container-id-28 div.sk-label:hover label.sk-toggleable__label {background-color: #d4ebff;}#sk-container-id-28 div.sk-serial::before {content: \"\";position: absolute;border-left: 1px solid gray;box-sizing: border-box;top: 0;bottom: 0;left: 50%;z-index: 0;}#sk-container-id-28 div.sk-serial {display: flex;flex-direction: column;align-items: center;background-color: white;padding-right: 0.2em;padding-left: 0.2em;position: relative;}#sk-container-id-28 div.sk-item {position: relative;z-index: 1;}#sk-container-id-28 div.sk-parallel {display: flex;align-items: stretch;justify-content: center;background-color: white;position: relative;}#sk-container-id-28 div.sk-item::before, #sk-container-id-28 div.sk-parallel-item::before {content: \"\";position: absolute;border-left: 1px solid gray;box-sizing: border-box;top: 0;bottom: 0;left: 50%;z-index: -1;}#sk-container-id-28 div.sk-parallel-item {display: flex;flex-direction: column;z-index: 1;position: relative;background-color: white;}#sk-container-id-28 div.sk-parallel-item:first-child::after {align-self: flex-end;width: 50%;}#sk-container-id-28 div.sk-parallel-item:last-child::after {align-self: flex-start;width: 50%;}#sk-container-id-28 div.sk-parallel-item:only-child::after {width: 0;}#sk-container-id-28 div.sk-dashed-wrapped {border: 1px dashed gray;margin: 0 0.4em 0.5em 0.4em;box-sizing: border-box;padding-bottom: 0.4em;background-color: white;}#sk-container-id-28 div.sk-label label {font-family: monospace;font-weight: bold;display: inline-block;line-height: 1.2em;}#sk-container-id-28 div.sk-label-container {text-align: center;}#sk-container-id-28 div.sk-container {/* jupyter's `normalize.less` sets `[hidden] { display: none; }` but bootstrap.min.css set `[hidden] { display: none !important; }` so we also need the `!important` here to be able to override the default hidden behavior on the sphinx rendered scikit-learn.org. See: https://github.com/scikit-learn/scikit-learn/issues/21755 */display: inline-block !important;position: relative;}#sk-container-id-28 div.sk-text-repr-fallback {display: none;}</style><div id=\"sk-container-id-28\" class=\"sk-top-container\"><div class=\"sk-text-repr-fallback\"><pre>AdaBoostClassifier(n_estimators=100, random_state=42)</pre><b>In a Jupyter environment, please rerun this cell to show the HTML representation or trust the notebook. <br />On GitHub, the HTML representation is unable to render, please try loading this page with nbviewer.org.</b></div><div class=\"sk-container\" hidden><div class=\"sk-item\"><div class=\"sk-estimator sk-toggleable\"><input class=\"sk-toggleable__control sk-hidden--visually\" id=\"sk-estimator-id-28\" type=\"checkbox\" checked><label for=\"sk-estimator-id-28\" class=\"sk-toggleable__label sk-toggleable__label-arrow\">AdaBoostClassifier</label><div class=\"sk-toggleable__content\"><pre>AdaBoostClassifier(n_estimators=100, random_state=42)</pre></div></div></div></div></div>"
      ],
      "text/plain": [
       "AdaBoostClassifier(n_estimators=100, random_state=42)"
      ]
     },
     "execution_count": 361,
     "metadata": {},
     "output_type": "execute_result"
    }
   ],
   "source": [
    "# try an adaboost model\n",
    "from sklearn.ensemble import AdaBoostClassifier\n",
    "\n",
    "ada = AdaBoostClassifier(n_estimators=100, random_state=42)\n",
    "ada.fit(X_train_resampled, y_train_resampled)"
   ]
  },
  {
   "cell_type": "code",
   "execution_count": 362,
   "metadata": {},
   "outputs": [
    {
     "name": "stdout",
     "output_type": "stream",
     "text": [
      "Test macro f1 score using AdaBoost model:  0.4911873097374707\n"
     ]
    }
   ],
   "source": [
    "# evaluate \n",
    "y_pred = ada.predict(X_test)\n",
    "print(\"Test macro f1 score using AdaBoost model: \", macro_f1(y_pred))"
   ]
  },
  {
   "cell_type": "code",
   "execution_count": 363,
   "metadata": {},
   "outputs": [
    {
     "name": "stdout",
     "output_type": "stream",
     "text": [
      "Test macro f1 score using Gradient Boosting model:  0.9054753493268324\n"
     ]
    }
   ],
   "source": [
    "#implement xgboost for this 5 class classification problem on the same data\n",
    "from xgboost import XGBClassifier\n",
    "\n",
    "xgb = XGBClassifier(n_estimators=500, learning_rate=0.2, random_state=42, objective='multi:softmax', num_class=5, eval_metric='mlogloss')\n",
    "xgb.fit(X_train_resampled, y_train_resampled)\n",
    "# evaluate\n",
    "y_pred = xgb.predict(X_test)\n",
    "print(\"Test macro f1 score using Gradient Boosting model: \", macro_f1(y_pred))"
   ]
  }
 ],
 "metadata": {
  "kernelspec": {
   "display_name": "base",
   "language": "python",
   "name": "python3"
  },
  "language_info": {
   "codemirror_mode": {
    "name": "ipython",
    "version": 3
   },
   "file_extension": ".py",
   "mimetype": "text/x-python",
   "name": "python",
   "nbconvert_exporter": "python",
   "pygments_lexer": "ipython3",
   "version": "3.10.9"
  }
 },
 "nbformat": 4,
 "nbformat_minor": 2
}
